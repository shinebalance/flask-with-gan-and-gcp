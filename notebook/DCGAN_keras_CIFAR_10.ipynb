{
  "nbformat": 4,
  "nbformat_minor": 0,
  "metadata": {
    "kernelspec": {
      "name": "python3",
      "display_name": "Python 3"
    },
    "language_info": {
      "codemirror_mode": {
        "name": "ipython",
        "version": 3
      },
      "file_extension": ".py",
      "mimetype": "text/x-python",
      "name": "python",
      "nbconvert_exporter": "python",
      "pygments_lexer": "ipython3",
      "version": "3.5.2"
    },
    "colab": {
      "name": "DCGAN-keras-CIFAR-10.ipynb",
      "provenance": [],
      "collapsed_sections": [],
      "include_colab_link": true
    },
    "accelerator": "GPU"
  },
  "cells": [
    {
      "cell_type": "markdown",
      "metadata": {
        "id": "view-in-github",
        "colab_type": "text"
      },
      "source": [
        "<a href=\"https://colab.research.google.com/github/shinebalance/flask-with-gan-and-gcp/blob/master/notebook/DCGAN_keras_CIFAR_10.ipynb\" target=\"_parent\"><img src=\"https://colab.research.google.com/assets/colab-badge.svg\" alt=\"Open In Colab\"/></a>"
      ]
    },
    {
      "cell_type": "markdown",
      "metadata": {
        "id": "_do2Ke9ezRxq",
        "colab_type": "text"
      },
      "source": [
        "# **\"Deep Learning with Python\" 8-5.GAN**  \n",
        "---\n",
        "\n",
        "## 【目的】\n",
        "* 以下書籍のコードを元にCIFAR-10のデータでDCGANの学習を行い、学習済モデルを取得する\n",
        "\n",
        "訳書：https://book.mynavi.jp/ec/products/detail/id=90124  <br>\n",
        "原著：https://www.manning.com/books/deep-learning-with-python\n",
        "<div align=\"center\">\n",
        "<img src=\"https://images.manning.com/720/960/resize/book/7/65fca1c-6826-472d-bbea-c1d4a7b3c570/Chollet-DLP-HI.png\" frameborder=\"0\" width=\"110\" height=\"125\" scrolling=\"yes\"></img>\n",
        "</div>  \n",
        "\n",
        "## 【備考】\n",
        "* 基本的な手順は以下Francois氏コードと同様。\n",
        "> https://github.com/fchollet/deep-learning-with-python-notebooks/blob/master/8.5-introduction-to-gans.ipynb\n",
        "\n",
        "---\n"
      ]
    },
    {
      "cell_type": "code",
      "metadata": {
        "id": "0gKoUq4gyaa3",
        "colab_type": "code",
        "colab": {
          "base_uri": "https://localhost:8080/",
          "height": 51
        },
        "outputId": "ef48483a-ba6c-47c1-e997-a1482f1ef479"
      },
      "source": [
        "import keras\n",
        "keras.__version__"
      ],
      "execution_count": null,
      "outputs": [
        {
          "output_type": "stream",
          "text": [
            "Using TensorFlow backend.\n"
          ],
          "name": "stderr"
        },
        {
          "output_type": "execute_result",
          "data": {
            "application/vnd.google.colaboratory.intrinsic+json": {
              "type": "string"
            },
            "text/plain": [
              "'2.3.1'"
            ]
          },
          "metadata": {
            "tags": []
          },
          "execution_count": 1
        }
      ]
    },
    {
      "cell_type": "markdown",
      "metadata": {
        "id": "-pDFxlyPyabA",
        "colab_type": "text"
      },
      "source": [
        "# The generator(:Generatorの構築)\n",
        "memo: 32*32のインプットをCNNで畳み込んでから再度展開して画像を生成するNW。generator.summary()の結果をご参照。"
      ]
    },
    {
      "cell_type": "code",
      "metadata": {
        "id": "baa2SDUtPrXS",
        "colab_type": "code",
        "colab": {}
      },
      "source": [
        "import keras\n",
        "from keras import layers\n",
        "import numpy as np"
      ],
      "execution_count": null,
      "outputs": []
    },
    {
      "cell_type": "code",
      "metadata": {
        "id": "UAa6HPTPyabB",
        "colab_type": "code",
        "colab": {
          "base_uri": "https://localhost:8080/",
          "height": 583
        },
        "outputId": "e791f53a-324e-4186-9345-9c6243de8ddf"
      },
      "source": [
        "import keras\n",
        "from keras import layers\n",
        "import numpy as np\n",
        "\n",
        "latent_dim = 32\n",
        "height = 32\n",
        "width = 32\n",
        "channels = 3\n",
        "\n",
        "generator_input = keras.Input(shape=(latent_dim,))\n",
        "\n",
        "# First, transform the input into a 16x16 128-channels feature map\n",
        "x = layers.Dense(128 * 16 * 16)(generator_input)\n",
        "# x = layers.BatchNormalization()(x)  # 2020-07 add\n",
        "x = layers.LeakyReLU()(x)\n",
        "x = layers.Reshape((16, 16, 128))(x)\n",
        "\n",
        "# Then, add a convolution layer\n",
        "x = layers.Conv2D(256, 5, padding='same')(x)\n",
        "x = layers.LeakyReLU()(x)\n",
        "\n",
        "# Upsample to 32x32\n",
        "x = layers.Conv2DTranspose(256, 4, strides=2, padding='same')(x)\n",
        "x = layers.LeakyReLU()(x)\n",
        "\n",
        "# Few more conv layers\n",
        "x = layers.Conv2D(256, 5, padding='same')(x)\n",
        "x = layers.LeakyReLU()(x)\n",
        "x = layers.Conv2D(256, 5, padding='same')(x)\n",
        "x = layers.LeakyReLU()(x)\n",
        "\n",
        "# Produce a 32x32 1-channel feature map\n",
        "x = layers.Conv2D(channels, 7, activation='tanh', padding='same')(x)\n",
        "generator = keras.models.Model(generator_input, x)\n",
        "generator.summary()"
      ],
      "execution_count": null,
      "outputs": [
        {
          "output_type": "stream",
          "text": [
            "Model: \"model_1\"\n",
            "_________________________________________________________________\n",
            "Layer (type)                 Output Shape              Param #   \n",
            "=================================================================\n",
            "input_1 (InputLayer)         (None, 32)                0         \n",
            "_________________________________________________________________\n",
            "dense_1 (Dense)              (None, 32768)             1081344   \n",
            "_________________________________________________________________\n",
            "leaky_re_lu_1 (LeakyReLU)    (None, 32768)             0         \n",
            "_________________________________________________________________\n",
            "reshape_1 (Reshape)          (None, 16, 16, 128)       0         \n",
            "_________________________________________________________________\n",
            "conv2d_1 (Conv2D)            (None, 16, 16, 256)       819456    \n",
            "_________________________________________________________________\n",
            "leaky_re_lu_2 (LeakyReLU)    (None, 16, 16, 256)       0         \n",
            "_________________________________________________________________\n",
            "conv2d_transpose_1 (Conv2DTr (None, 32, 32, 256)       1048832   \n",
            "_________________________________________________________________\n",
            "leaky_re_lu_3 (LeakyReLU)    (None, 32, 32, 256)       0         \n",
            "_________________________________________________________________\n",
            "conv2d_2 (Conv2D)            (None, 32, 32, 256)       1638656   \n",
            "_________________________________________________________________\n",
            "leaky_re_lu_4 (LeakyReLU)    (None, 32, 32, 256)       0         \n",
            "_________________________________________________________________\n",
            "conv2d_3 (Conv2D)            (None, 32, 32, 256)       1638656   \n",
            "_________________________________________________________________\n",
            "leaky_re_lu_5 (LeakyReLU)    (None, 32, 32, 256)       0         \n",
            "_________________________________________________________________\n",
            "conv2d_4 (Conv2D)            (None, 32, 32, 3)         37635     \n",
            "=================================================================\n",
            "Total params: 6,264,579\n",
            "Trainable params: 6,264,579\n",
            "Non-trainable params: 0\n",
            "_________________________________________________________________\n"
          ],
          "name": "stdout"
        }
      ]
    },
    {
      "cell_type": "markdown",
      "metadata": {
        "id": "XSQCmWg3yabD",
        "colab_type": "text"
      },
      "source": [
        "# The discriminatorgenerator(:Discriminator,判別者の構築)\n",
        "memo: 32*32のインプットをオーソドックスCNNで畳み込む分類のNW。generator.summary()の結果をご参照。"
      ]
    },
    {
      "cell_type": "code",
      "metadata": {
        "id": "rzJZheL7yabE",
        "colab_type": "code",
        "colab": {
          "base_uri": "https://localhost:8080/",
          "height": 550
        },
        "outputId": "2d5056af-ebea-49d7-cabb-d7dc4ba85265"
      },
      "source": [
        "discriminator_input = layers.Input(shape=(height, width, channels))\n",
        "x = layers.Conv2D(128, 3)(discriminator_input)\n",
        "x = layers.LeakyReLU()(x)\n",
        "x = layers.Conv2D(128, 4, strides=2)(x)\n",
        "x = layers.LeakyReLU()(x)\n",
        "x = layers.Conv2D(128, 4, strides=2)(x)\n",
        "x = layers.LeakyReLU()(x)\n",
        "x = layers.Conv2D(128, 4, strides=2)(x)\n",
        "x = layers.LeakyReLU()(x)\n",
        "x = layers.Flatten()(x)\n",
        "\n",
        "# One dropout layer - important trick!\n",
        "x = layers.Dropout(0.4)(x)\n",
        "\n",
        "# Classification layer\n",
        "x = layers.Dense(1, activation='sigmoid')(x)\n",
        "\n",
        "discriminator = keras.models.Model(discriminator_input, x)\n",
        "discriminator.summary()\n",
        "\n",
        "# To stabilize training, we use learning rate decay\n",
        "# and gradient clipping (by value) in the optimizer.\n",
        "discriminator_optimizer = keras.optimizers.RMSprop(lr=0.0008, clipvalue=1.0, decay=1e-8)\n",
        "discriminator.compile(optimizer=discriminator_optimizer, loss='binary_crossentropy')"
      ],
      "execution_count": null,
      "outputs": [
        {
          "output_type": "stream",
          "text": [
            "Model: \"model_2\"\n",
            "_________________________________________________________________\n",
            "Layer (type)                 Output Shape              Param #   \n",
            "=================================================================\n",
            "input_2 (InputLayer)         (None, 32, 32, 3)         0         \n",
            "_________________________________________________________________\n",
            "conv2d_5 (Conv2D)            (None, 30, 30, 128)       3584      \n",
            "_________________________________________________________________\n",
            "leaky_re_lu_6 (LeakyReLU)    (None, 30, 30, 128)       0         \n",
            "_________________________________________________________________\n",
            "conv2d_6 (Conv2D)            (None, 14, 14, 128)       262272    \n",
            "_________________________________________________________________\n",
            "leaky_re_lu_7 (LeakyReLU)    (None, 14, 14, 128)       0         \n",
            "_________________________________________________________________\n",
            "conv2d_7 (Conv2D)            (None, 6, 6, 128)         262272    \n",
            "_________________________________________________________________\n",
            "leaky_re_lu_8 (LeakyReLU)    (None, 6, 6, 128)         0         \n",
            "_________________________________________________________________\n",
            "conv2d_8 (Conv2D)            (None, 2, 2, 128)         262272    \n",
            "_________________________________________________________________\n",
            "leaky_re_lu_9 (LeakyReLU)    (None, 2, 2, 128)         0         \n",
            "_________________________________________________________________\n",
            "flatten_1 (Flatten)          (None, 512)               0         \n",
            "_________________________________________________________________\n",
            "dropout_1 (Dropout)          (None, 512)               0         \n",
            "_________________________________________________________________\n",
            "dense_2 (Dense)              (None, 1)                 513       \n",
            "=================================================================\n",
            "Total params: 790,913\n",
            "Trainable params: 790,913\n",
            "Non-trainable params: 0\n",
            "_________________________________________________________________\n"
          ],
          "name": "stdout"
        }
      ]
    },
    {
      "cell_type": "markdown",
      "metadata": {
        "id": "aIPmUWfayabG",
        "colab_type": "text"
      },
      "source": [
        "# The adversarial network(:Adversarial(敵対的)ネットワーク)\n",
        "memo:Generatorを訓練する（Descriminatorをうまく騙せるようにする）ためのNW。ランダムノイズをインプットに、Generator→Descriminatorの結果が「本物の画像である」となるようにGeneratorの重み更新を行う。\n",
        "<br>\n",
        "ポイントとして、descriminatorの重みはこの段階では更新せず凍結する。このNWの訓練時にはインプットのラベルを「本物の画像である」として学習するので、合わせてDescriminatorまで重み更新を行ってしまうと、偽物の画像を訓練できないDescriminatorになってしまう。\n",
        "<br>"
      ]
    },
    {
      "cell_type": "code",
      "metadata": {
        "id": "OTlvMkBxyabH",
        "colab_type": "code",
        "colab": {}
      },
      "source": [
        "# Set discriminator weights to non-trainable\n",
        "# (will only apply to the `gan` model)\n",
        "discriminator.trainable = False\n",
        "\n",
        "gan_input = keras.Input(shape=(latent_dim,))\n",
        "gan_output = discriminator(generator(gan_input))\n",
        "gan = keras.models.Model(gan_input, gan_output)\n",
        "\n",
        "gan_optimizer = keras.optimizers.RMSprop(lr=0.0004, clipvalue=1.0, decay=1e-8)\n",
        "gan.compile(optimizer=gan_optimizer, loss='binary_crossentropy')"
      ],
      "execution_count": null,
      "outputs": []
    },
    {
      "cell_type": "markdown",
      "metadata": {
        "id": "FzTMmKXPak5v",
        "colab_type": "text"
      },
      "source": [
        "【メモ】1エポックの中では以下の行程が行われている。\n",
        " 1. ランダムノイズを生成する\n",
        " 2. Generatorがランダムノイズで画像を生成する。\n",
        " 3. 本物の画像1枚と生成画像1枚をミックスする。\n",
        " 4. Descriminatorにこの2枚のイメージを渡して真贋判定を行わせる。  \n",
        " (おそらくこの段階でDescriminatorは真贋判定を元にバックプロパゲーションを行う。)\n",
        " 5. 新しいランダムノイズを生成する。\n",
        " 6. Adversarial NWにランダムノイズを「本物の画像である」とラベルづけして投入して訓練を行う。  \n",
        "  この段階ではじめてGeneratorはバックプロパゲーションを行う。行程2の\n",
        "  画像生成ではバックプロパゲーションを行わないのがミソ。\n",
        "  <br>\n",
        "\n",
        "* GANのバランスを成立させるために、1エポックの中で上記のようなアイデアが盛り込まれているものと思われる。\n",
        "* 行程6の意味が最初わからず混乱したが、GeneratorとDescriminatorを擬人化して想像するとだいぶ理解しやすくなる。\n",
        " * 行程6でGくんを訓練する際に、GくんがきちんとDくんを騙せるようになるためには、仮想のDくんのような存在を用意して、「Dくんだったら本物と判定するはず」という答えを元にバックプロパゲーションを行うしかない。でもこのタイミングで本物のDくんがGくんのやっている訓練を知ってしまっては意味がない。（だから凍結してもらう必要がある）\n",
        "  * 例えが下手ですみません(´・ω・`)"
      ]
    },
    {
      "cell_type": "markdown",
      "metadata": {
        "id": "nkncmxVtPgh3",
        "colab_type": "text"
      },
      "source": [
        "# 学習処理\n",
        "* イテレーション数によるが１時間程度かかる\n",
        "* colabで実行する際は必ずGPUインスタンスを利用する\n",
        "* 損失関数の値がどちらも0~1付近で安定していればよいが、片方の値がスパイクしてきた場合はモード崩壊を疑ったほうが良い\n",
        "* 例…Descriminatorが先にGeneratorを圧倒してしまっているパターン\n",
        "```\n",
        "discriminator loss at step 200: 0.000711896\n",
        "adversarial loss at step 200: 112.6597033\n",
        "```"
      ]
    },
    {
      "cell_type": "code",
      "metadata": {
        "id": "LknsE9tIyabK",
        "colab_type": "code",
        "colab": {
          "base_uri": "https://localhost:8080/",
          "height": 1000
        },
        "outputId": "72171ade-b600-4cd9-8e44-5fcead42705e"
      },
      "source": [
        "import os\n",
        "from keras.preprocessing import image\n",
        "\n",
        "# Load CIFAR10 data\n",
        "(x_train, y_train), (_, _) = keras.datasets.cifar10.load_data()\n",
        "\n",
        "# Select frog images (class 6)\n",
        "x_train = x_train[y_train.flatten() == 8]  # truck\n",
        "\n",
        "# Normalize data\n",
        "x_train = x_train.reshape(\n",
        "    (x_train.shape[0],) + (height, width, channels)).astype('float32') / 255.\n",
        "\n",
        "iterations = 20000\n",
        "batch_size = 20\n",
        "# save_dir = '/home/ubuntu/gan_images/'\n",
        "# shinebalance memo: francoisはcolabを使っていないので以下の通り変更\n",
        "!mkdir gan_images\n",
        "save_dir = './gan_images/'\n",
        "\n",
        "# Start training loop\n",
        "start = 0\n",
        "for step in range(iterations):\n",
        "    # Sample random points in the latent space\n",
        "    random_latent_vectors = np.random.normal(size=(batch_size, latent_dim))\n",
        "\n",
        "    # Decode them to fake images\n",
        "    generated_images = generator.predict(random_latent_vectors)\n",
        "\n",
        "    # Combine them with real images\n",
        "    stop = start + batch_size\n",
        "    real_images = x_train[start: stop]\n",
        "    combined_images = np.concatenate([generated_images, real_images])\n",
        "\n",
        "    # Assemble labels discriminating real from fake images\n",
        "    labels = np.concatenate([np.ones((batch_size, 1)),\n",
        "                             np.zeros((batch_size, 1))])\n",
        "    # Add random noise to the labels - important trick!\n",
        "    labels += 0.05 * np.random.random(labels.shape)\n",
        "\n",
        "    # Train the discriminator\n",
        "    d_loss = discriminator.train_on_batch(combined_images, labels)\n",
        "\n",
        "    # sample random points in the latent space\n",
        "    random_latent_vectors = np.random.normal(size=(batch_size, latent_dim))\n",
        "\n",
        "    # Assemble labels that say \"all real images\"\n",
        "    misleading_targets = np.zeros((batch_size, 1))\n",
        "\n",
        "    # Train the generator (via the gan model,\n",
        "    # where the discriminator weights are frozen)\n",
        "    a_loss = gan.train_on_batch(random_latent_vectors, misleading_targets)\n",
        "    \n",
        "    start += batch_size\n",
        "    if start > len(x_train) - batch_size:\n",
        "      start = 0\n",
        "\n",
        "    # Occasionally save / plot\n",
        "    if step % 100 == 0:\n",
        "        # Save model weights\n",
        "        gan.save_weights('gan.h5')\n",
        "\n",
        "        # Print metrics\n",
        "        print('discriminator loss at step %s: %s' % (step, d_loss))\n",
        "        print('adversarial loss at step %s: %s' % (step, a_loss))\n",
        "\n",
        "        # Save one generated image\n",
        "        img = image.array_to_img(generated_images[0] * 255., scale=False)\n",
        "        img.save(os.path.join(save_dir, 'generated_' + str(step) + '.png'))\n",
        "\n",
        "        # Save one real image, for comparison\n",
        "        img = image.array_to_img(real_images[0] * 255., scale=False)\n",
        "        img.save(os.path.join(save_dir, 'real_' + str(step) + '.png'))\n",
        "\n",
        "    if step%5000 == 0:\n",
        "      generator.save_weights(f'generator_model_weights_{step}.h5')\n",
        "      generator.save(f'generator_model_{step}.h5')\n",
        "\n",
        "# save last wights\n",
        "generator.save_weights(f'generator_model_weights_{iterations}.h5')\n",
        "generator.save(f'generator_model_{iterations}.h5')"
      ],
      "execution_count": null,
      "outputs": [
        {
          "output_type": "stream",
          "text": [
            "Downloading data from https://www.cs.toronto.edu/~kriz/cifar-10-python.tar.gz\n",
            "170500096/170498071 [==============================] - 6s 0us/step\n"
          ],
          "name": "stdout"
        },
        {
          "output_type": "stream",
          "text": [
            "/usr/local/lib/python3.6/dist-packages/keras/engine/training.py:297: UserWarning: Discrepancy between trainable weights and collected trainable weights, did you set `model.trainable` without calling `model.compile` after ?\n",
            "  'Discrepancy between trainable weights and collected trainable'\n"
          ],
          "name": "stderr"
        },
        {
          "output_type": "stream",
          "text": [
            "discriminator loss at step 0: 0.7015323\n",
            "adversarial loss at step 0: 0.6761788\n",
            "discriminator loss at step 100: 0.6171355\n",
            "adversarial loss at step 100: 1.2441871\n",
            "discriminator loss at step 200: 0.7153992\n",
            "adversarial loss at step 200: 0.80336154\n",
            "discriminator loss at step 300: 0.68632185\n",
            "adversarial loss at step 300: 0.75857\n",
            "discriminator loss at step 400: 0.7042298\n",
            "adversarial loss at step 400: 0.71018255\n",
            "discriminator loss at step 500: 0.68829125\n",
            "adversarial loss at step 500: 0.7868347\n",
            "discriminator loss at step 600: 0.7157521\n",
            "adversarial loss at step 600: 0.9276056\n",
            "discriminator loss at step 700: 0.68998855\n",
            "adversarial loss at step 700: 0.7660289\n",
            "discriminator loss at step 800: 0.7111881\n",
            "adversarial loss at step 800: 0.7264277\n",
            "discriminator loss at step 900: 0.71177924\n",
            "adversarial loss at step 900: 0.8025711\n",
            "discriminator loss at step 1000: 0.7074971\n",
            "adversarial loss at step 1000: 0.9095597\n",
            "discriminator loss at step 1100: 0.6984394\n",
            "adversarial loss at step 1100: 0.786073\n",
            "discriminator loss at step 1200: 0.6995097\n",
            "adversarial loss at step 1200: 0.77090234\n",
            "discriminator loss at step 1300: 0.6967604\n",
            "adversarial loss at step 1300: 0.7164322\n",
            "discriminator loss at step 1400: 0.69663775\n",
            "adversarial loss at step 1400: 0.74158776\n",
            "discriminator loss at step 1500: 0.71352124\n",
            "adversarial loss at step 1500: 0.71929455\n",
            "discriminator loss at step 1600: 0.7170137\n",
            "adversarial loss at step 1600: 0.8326483\n",
            "discriminator loss at step 1700: 0.6813354\n",
            "adversarial loss at step 1700: 0.78296435\n",
            "discriminator loss at step 1800: 0.68986773\n",
            "adversarial loss at step 1800: 0.7160741\n",
            "discriminator loss at step 1900: 0.7006224\n",
            "adversarial loss at step 1900: 0.7442254\n",
            "discriminator loss at step 2000: 0.6996534\n",
            "adversarial loss at step 2000: 0.77485484\n",
            "discriminator loss at step 2100: 0.68778\n",
            "adversarial loss at step 2100: 0.73747164\n",
            "discriminator loss at step 2200: 0.7168999\n",
            "adversarial loss at step 2200: 0.75430346\n",
            "discriminator loss at step 2300: 0.69020456\n",
            "adversarial loss at step 2300: 0.7093769\n",
            "discriminator loss at step 2400: 0.7067669\n",
            "adversarial loss at step 2400: 0.69050586\n",
            "discriminator loss at step 2500: 0.6816831\n",
            "adversarial loss at step 2500: 0.7495812\n",
            "discriminator loss at step 2600: 0.6959079\n",
            "adversarial loss at step 2600: 0.84309894\n",
            "discriminator loss at step 2700: 0.7252461\n",
            "adversarial loss at step 2700: 0.7648269\n",
            "discriminator loss at step 2800: 0.66830224\n",
            "adversarial loss at step 2800: 0.7557584\n",
            "discriminator loss at step 2900: 0.67189926\n",
            "adversarial loss at step 2900: 0.7132088\n",
            "discriminator loss at step 3000: 0.70767766\n",
            "adversarial loss at step 3000: 0.7025198\n",
            "discriminator loss at step 3100: 0.6860631\n",
            "adversarial loss at step 3100: 0.72919005\n",
            "discriminator loss at step 3200: 0.6729423\n",
            "adversarial loss at step 3200: 0.8014488\n",
            "discriminator loss at step 3300: 0.68213236\n",
            "adversarial loss at step 3300: 0.715223\n",
            "discriminator loss at step 3400: 0.6958822\n",
            "adversarial loss at step 3400: 0.7802821\n",
            "discriminator loss at step 3500: 0.6953394\n",
            "adversarial loss at step 3500: 0.7246908\n",
            "discriminator loss at step 3600: 0.70623744\n",
            "adversarial loss at step 3600: 0.7152115\n",
            "discriminator loss at step 3700: 0.6927766\n",
            "adversarial loss at step 3700: 0.7844935\n",
            "discriminator loss at step 3800: 0.6994676\n",
            "adversarial loss at step 3800: 0.8581828\n",
            "discriminator loss at step 3900: 0.7026025\n",
            "adversarial loss at step 3900: 0.7333418\n",
            "discriminator loss at step 4000: 0.6975297\n",
            "adversarial loss at step 4000: 0.7753812\n",
            "discriminator loss at step 4100: 0.7073702\n",
            "adversarial loss at step 4100: 0.82662743\n",
            "discriminator loss at step 4200: 0.668291\n",
            "adversarial loss at step 4200: 0.7137315\n",
            "discriminator loss at step 4300: 0.706447\n",
            "adversarial loss at step 4300: 0.6787355\n",
            "discriminator loss at step 4400: 0.6958071\n",
            "adversarial loss at step 4400: 0.73406637\n",
            "discriminator loss at step 4500: 0.7136906\n",
            "adversarial loss at step 4500: 0.8201458\n",
            "discriminator loss at step 4600: 0.68687356\n",
            "adversarial loss at step 4600: 0.79703534\n",
            "discriminator loss at step 4700: 0.6883346\n",
            "adversarial loss at step 4700: 0.685379\n",
            "discriminator loss at step 4800: 0.7058044\n",
            "adversarial loss at step 4800: 0.7171133\n",
            "discriminator loss at step 4900: 0.71486294\n",
            "adversarial loss at step 4900: 0.7558346\n",
            "discriminator loss at step 5000: 0.7073535\n",
            "adversarial loss at step 5000: 0.7213253\n",
            "discriminator loss at step 5100: 0.713535\n",
            "adversarial loss at step 5100: 0.7662538\n",
            "discriminator loss at step 5200: 0.6878239\n",
            "adversarial loss at step 5200: 0.82581365\n",
            "discriminator loss at step 5300: 0.6939002\n",
            "adversarial loss at step 5300: 0.8020018\n",
            "discriminator loss at step 5400: 0.68402755\n",
            "adversarial loss at step 5400: 0.79434377\n",
            "discriminator loss at step 5500: 0.69382066\n",
            "adversarial loss at step 5500: 0.7405111\n",
            "discriminator loss at step 5600: 0.74045646\n",
            "adversarial loss at step 5600: 0.8583601\n",
            "discriminator loss at step 5700: 0.68401843\n",
            "adversarial loss at step 5700: 0.77119976\n",
            "discriminator loss at step 5800: 0.6965381\n",
            "adversarial loss at step 5800: 0.78900546\n",
            "discriminator loss at step 5900: 0.6934471\n",
            "adversarial loss at step 5900: 0.91339874\n",
            "discriminator loss at step 6000: 0.7212509\n",
            "adversarial loss at step 6000: 0.73727065\n",
            "discriminator loss at step 6100: 0.70296204\n",
            "adversarial loss at step 6100: 0.7541774\n",
            "discriminator loss at step 6200: 0.6825439\n",
            "adversarial loss at step 6200: 0.7158241\n",
            "discriminator loss at step 6300: 0.68403906\n",
            "adversarial loss at step 6300: 0.7486438\n",
            "discriminator loss at step 6400: 0.7218071\n",
            "adversarial loss at step 6400: 0.76922685\n",
            "discriminator loss at step 6500: 0.6700178\n",
            "adversarial loss at step 6500: 0.67587924\n",
            "discriminator loss at step 6600: 0.6808204\n",
            "adversarial loss at step 6600: 0.7354482\n",
            "discriminator loss at step 6700: 0.6914152\n",
            "adversarial loss at step 6700: 0.78314215\n",
            "discriminator loss at step 6800: 0.6995467\n",
            "adversarial loss at step 6800: 0.73365015\n",
            "discriminator loss at step 6900: 0.69386256\n",
            "adversarial loss at step 6900: 0.7181514\n",
            "discriminator loss at step 7000: 0.70589477\n",
            "adversarial loss at step 7000: 0.7569313\n",
            "discriminator loss at step 7100: 0.7368749\n",
            "adversarial loss at step 7100: 0.9640396\n",
            "discriminator loss at step 7200: 0.6903645\n",
            "adversarial loss at step 7200: 0.7347136\n",
            "discriminator loss at step 7300: 0.6814512\n",
            "adversarial loss at step 7300: 0.75182235\n",
            "discriminator loss at step 7400: 0.6951349\n",
            "adversarial loss at step 7400: 0.78302944\n",
            "discriminator loss at step 7500: 0.6920742\n",
            "adversarial loss at step 7500: 0.7108839\n",
            "discriminator loss at step 7600: 0.7001075\n",
            "adversarial loss at step 7600: 0.74499214\n",
            "discriminator loss at step 7700: 0.6915051\n",
            "adversarial loss at step 7700: 0.7760787\n",
            "discriminator loss at step 7800: 0.66538334\n",
            "adversarial loss at step 7800: 0.64807504\n",
            "discriminator loss at step 7900: 0.69508374\n",
            "adversarial loss at step 7900: 0.82755584\n",
            "discriminator loss at step 8000: 0.6921128\n",
            "adversarial loss at step 8000: 0.74118024\n",
            "discriminator loss at step 8100: 0.7041318\n",
            "adversarial loss at step 8100: 0.7509565\n",
            "discriminator loss at step 8200: 0.6823581\n",
            "adversarial loss at step 8200: 0.71426976\n",
            "discriminator loss at step 8300: 0.6932976\n",
            "adversarial loss at step 8300: 0.74635386\n",
            "discriminator loss at step 8400: 0.69515955\n",
            "adversarial loss at step 8400: 0.74683595\n",
            "discriminator loss at step 8500: 0.7068974\n",
            "adversarial loss at step 8500: 0.7313902\n",
            "discriminator loss at step 8600: 0.7127163\n",
            "adversarial loss at step 8600: 0.7482218\n",
            "discriminator loss at step 8700: 0.6996828\n",
            "adversarial loss at step 8700: 0.7560337\n",
            "discriminator loss at step 8800: 0.6827426\n",
            "adversarial loss at step 8800: 0.7244411\n",
            "discriminator loss at step 8900: 0.6936344\n",
            "adversarial loss at step 8900: 1.1957504\n",
            "discriminator loss at step 9000: 0.77303916\n",
            "adversarial loss at step 9000: 0.76947767\n",
            "discriminator loss at step 9100: 0.6972985\n",
            "adversarial loss at step 9100: 0.7298259\n",
            "discriminator loss at step 9200: 0.76109457\n",
            "adversarial loss at step 9200: 2.9736896\n",
            "discriminator loss at step 9300: 0.72947615\n",
            "adversarial loss at step 9300: 0.82249194\n",
            "discriminator loss at step 9400: 0.69003975\n",
            "adversarial loss at step 9400: 0.7310718\n",
            "discriminator loss at step 9500: 0.68385947\n",
            "adversarial loss at step 9500: 0.6917381\n",
            "discriminator loss at step 9600: 0.6861756\n",
            "adversarial loss at step 9600: 0.73212034\n",
            "discriminator loss at step 9700: 0.7657908\n",
            "adversarial loss at step 9700: 0.69513893\n",
            "discriminator loss at step 9800: 0.6664488\n",
            "adversarial loss at step 9800: 0.8086524\n",
            "discriminator loss at step 9900: 0.6808036\n",
            "adversarial loss at step 9900: 0.65504783\n",
            "discriminator loss at step 10000: 0.6837456\n",
            "adversarial loss at step 10000: 0.67446107\n",
            "discriminator loss at step 10100: 0.6811719\n",
            "adversarial loss at step 10100: 0.7625948\n",
            "discriminator loss at step 10200: 0.687323\n",
            "adversarial loss at step 10200: 0.68417585\n",
            "discriminator loss at step 10300: 0.6885887\n",
            "adversarial loss at step 10300: 0.71567714\n",
            "discriminator loss at step 10400: 0.68284947\n",
            "adversarial loss at step 10400: 0.7553752\n",
            "discriminator loss at step 10500: 0.70865685\n",
            "adversarial loss at step 10500: 0.734467\n",
            "discriminator loss at step 10600: 0.69317174\n",
            "adversarial loss at step 10600: 0.8362056\n",
            "discriminator loss at step 10700: 0.68519723\n",
            "adversarial loss at step 10700: 0.80567396\n",
            "discriminator loss at step 10800: 0.68782806\n",
            "adversarial loss at step 10800: 0.76137084\n",
            "discriminator loss at step 10900: 0.6802629\n",
            "adversarial loss at step 10900: 0.75416344\n",
            "discriminator loss at step 11000: 0.6920099\n",
            "adversarial loss at step 11000: 0.75027484\n",
            "discriminator loss at step 11100: 0.7253767\n",
            "adversarial loss at step 11100: 0.69887877\n",
            "discriminator loss at step 11200: 0.6902219\n",
            "adversarial loss at step 11200: 0.74488294\n",
            "discriminator loss at step 11300: 0.70845866\n",
            "adversarial loss at step 11300: 0.6905027\n",
            "discriminator loss at step 11400: 0.6679146\n",
            "adversarial loss at step 11400: 0.7947124\n",
            "discriminator loss at step 11500: 0.6777493\n",
            "adversarial loss at step 11500: 0.6609337\n",
            "discriminator loss at step 11600: 0.6884576\n",
            "adversarial loss at step 11600: 0.74460083\n",
            "discriminator loss at step 11700: 0.69993633\n",
            "adversarial loss at step 11700: 0.7300462\n",
            "discriminator loss at step 11800: 0.6979192\n",
            "adversarial loss at step 11800: 0.743259\n",
            "discriminator loss at step 11900: 0.6996808\n",
            "adversarial loss at step 11900: 0.7063395\n",
            "discriminator loss at step 12000: 0.69729173\n",
            "adversarial loss at step 12000: 0.7869045\n",
            "discriminator loss at step 12100: 0.6999344\n",
            "adversarial loss at step 12100: 0.7758718\n",
            "discriminator loss at step 12200: 0.6894761\n",
            "adversarial loss at step 12200: 0.76169074\n",
            "discriminator loss at step 12300: 0.6802127\n",
            "adversarial loss at step 12300: 0.779893\n",
            "discriminator loss at step 12400: 0.71632355\n",
            "adversarial loss at step 12400: 0.7305972\n",
            "discriminator loss at step 12500: 0.704789\n",
            "adversarial loss at step 12500: 0.75366575\n",
            "discriminator loss at step 12600: 0.70351934\n",
            "adversarial loss at step 12600: 0.62517005\n",
            "discriminator loss at step 12700: 0.6873416\n",
            "adversarial loss at step 12700: 0.7560778\n",
            "discriminator loss at step 12800: 0.68823576\n",
            "adversarial loss at step 12800: 0.711352\n",
            "discriminator loss at step 12900: 0.6898406\n",
            "adversarial loss at step 12900: 0.78384423\n",
            "discriminator loss at step 13000: 0.6837076\n",
            "adversarial loss at step 13000: 0.7447435\n",
            "discriminator loss at step 13100: 0.686508\n",
            "adversarial loss at step 13100: 0.83803016\n",
            "discriminator loss at step 13200: 0.6744062\n",
            "adversarial loss at step 13200: 0.9603674\n",
            "discriminator loss at step 13300: 0.6983409\n",
            "adversarial loss at step 13300: 0.6835348\n",
            "discriminator loss at step 13400: 0.6558849\n",
            "adversarial loss at step 13400: 0.87557614\n",
            "discriminator loss at step 13500: 0.63798875\n",
            "adversarial loss at step 13500: 0.85008085\n",
            "discriminator loss at step 13600: 0.67893773\n",
            "adversarial loss at step 13600: 0.72769517\n",
            "discriminator loss at step 13700: 0.70433885\n",
            "adversarial loss at step 13700: 0.8677533\n",
            "discriminator loss at step 13800: 0.67741406\n",
            "adversarial loss at step 13800: 0.8277534\n",
            "discriminator loss at step 13900: 0.6665497\n",
            "adversarial loss at step 13900: 0.85101163\n",
            "discriminator loss at step 14000: 0.6005277\n",
            "adversarial loss at step 14000: 2.5523438\n",
            "discriminator loss at step 14100: 0.7517189\n",
            "adversarial loss at step 14100: 0.7169361\n",
            "discriminator loss at step 14200: 0.5123881\n",
            "adversarial loss at step 14200: 3.133281\n",
            "discriminator loss at step 14300: 0.6686188\n",
            "adversarial loss at step 14300: 0.8140157\n",
            "discriminator loss at step 14400: 0.6498502\n",
            "adversarial loss at step 14400: 0.66363966\n",
            "discriminator loss at step 14500: 0.6940187\n",
            "adversarial loss at step 14500: 0.8135499\n",
            "discriminator loss at step 14600: 0.6973794\n",
            "adversarial loss at step 14600: 0.74389\n",
            "discriminator loss at step 14700: 0.6412931\n",
            "adversarial loss at step 14700: 0.86078244\n",
            "discriminator loss at step 14800: 0.6614164\n",
            "adversarial loss at step 14800: 0.66705906\n",
            "discriminator loss at step 14900: 0.6661724\n",
            "adversarial loss at step 14900: 0.8150362\n",
            "discriminator loss at step 15000: 0.590333\n",
            "adversarial loss at step 15000: 3.33685\n",
            "discriminator loss at step 15100: 0.69234884\n",
            "adversarial loss at step 15100: 0.86173934\n",
            "discriminator loss at step 15200: 0.6804636\n",
            "adversarial loss at step 15200: 0.96425307\n",
            "discriminator loss at step 15300: 0.5844661\n",
            "adversarial loss at step 15300: 0.4778053\n",
            "discriminator loss at step 15400: 0.63845026\n",
            "adversarial loss at step 15400: 1.0765247\n",
            "discriminator loss at step 15500: 0.58323395\n",
            "adversarial loss at step 15500: 0.85075796\n",
            "discriminator loss at step 15600: 0.6511043\n",
            "adversarial loss at step 15600: 0.94603395\n",
            "discriminator loss at step 15700: 0.6810853\n",
            "adversarial loss at step 15700: 1.0320442\n",
            "discriminator loss at step 15800: 0.5881265\n",
            "adversarial loss at step 15800: 1.1720661\n",
            "discriminator loss at step 15900: 0.5982901\n",
            "adversarial loss at step 15900: 1.2316594\n",
            "discriminator loss at step 16000: 0.58176327\n",
            "adversarial loss at step 16000: 1.1825011\n",
            "discriminator loss at step 16100: 0.6386054\n",
            "adversarial loss at step 16100: 1.1265948\n",
            "discriminator loss at step 16200: 0.64184374\n",
            "adversarial loss at step 16200: 0.91736734\n",
            "discriminator loss at step 16300: 0.64982235\n",
            "adversarial loss at step 16300: 0.5827781\n",
            "discriminator loss at step 16400: 0.7538382\n",
            "adversarial loss at step 16400: 0.7068301\n",
            "discriminator loss at step 16500: 1.2651469\n",
            "adversarial loss at step 16500: 0.92089194\n",
            "discriminator loss at step 16600: 0.6188655\n",
            "adversarial loss at step 16600: 1.0370338\n",
            "discriminator loss at step 16700: 0.50628054\n",
            "adversarial loss at step 16700: 1.3569005\n",
            "discriminator loss at step 16800: 0.651292\n",
            "adversarial loss at step 16800: 0.84553355\n",
            "discriminator loss at step 16900: 0.47839195\n",
            "adversarial loss at step 16900: 9.376371\n",
            "discriminator loss at step 17000: 0.42298484\n",
            "adversarial loss at step 17000: 3.8399487\n",
            "discriminator loss at step 17100: 0.6733922\n",
            "adversarial loss at step 17100: 1.2221439\n",
            "discriminator loss at step 17200: 0.45106035\n",
            "adversarial loss at step 17200: 1.1748956\n",
            "discriminator loss at step 17300: 0.48951596\n",
            "adversarial loss at step 17300: 0.75317603\n",
            "discriminator loss at step 17400: 0.6905012\n",
            "adversarial loss at step 17400: 1.980542\n",
            "discriminator loss at step 17500: 0.58856535\n",
            "adversarial loss at step 17500: 1.5093205\n",
            "discriminator loss at step 17600: 0.8339051\n",
            "adversarial loss at step 17600: 3.6413689\n",
            "discriminator loss at step 17700: 0.5002548\n",
            "adversarial loss at step 17700: 1.3935812\n",
            "discriminator loss at step 17800: 0.2632367\n",
            "adversarial loss at step 17800: 15.366463\n",
            "discriminator loss at step 17900: 0.61517733\n",
            "adversarial loss at step 17900: 1.3580191\n",
            "discriminator loss at step 18000: 1.3973838\n",
            "adversarial loss at step 18000: 1.9093885\n",
            "discriminator loss at step 18100: 0.49181676\n",
            "adversarial loss at step 18100: 0.7323066\n",
            "discriminator loss at step 18200: 0.60711896\n",
            "adversarial loss at step 18200: 1.6597033\n",
            "discriminator loss at step 18300: 0.4411992\n",
            "adversarial loss at step 18300: 1.4287363\n",
            "discriminator loss at step 18400: 0.5051085\n",
            "adversarial loss at step 18400: 1.2742895\n",
            "discriminator loss at step 18500: 0.5735206\n",
            "adversarial loss at step 18500: 1.1557465\n",
            "discriminator loss at step 18600: -0.22798714\n",
            "adversarial loss at step 18600: 39.579155\n",
            "discriminator loss at step 18700: 0.68086505\n",
            "adversarial loss at step 18700: 1.4090815\n",
            "discriminator loss at step 18800: 1.3973075\n",
            "adversarial loss at step 18800: 2.4849746\n",
            "discriminator loss at step 18900: 0.47620383\n",
            "adversarial loss at step 18900: 1.8316473\n",
            "discriminator loss at step 19000: 0.44373125\n",
            "adversarial loss at step 19000: 1.1532133\n",
            "discriminator loss at step 19100: 0.52291954\n",
            "adversarial loss at step 19100: 1.0005932\n",
            "discriminator loss at step 19200: 0.73578537\n",
            "adversarial loss at step 19200: 12.602795\n",
            "discriminator loss at step 19300: 0.70899105\n",
            "adversarial loss at step 19300: 0.69337195\n",
            "discriminator loss at step 19400: 0.43741408\n",
            "adversarial loss at step 19400: 2.186786\n",
            "discriminator loss at step 19500: 0.23018166\n",
            "adversarial loss at step 19500: 4.1777787\n",
            "discriminator loss at step 19600: 0.691438\n",
            "adversarial loss at step 19600: 1.4159819\n",
            "discriminator loss at step 19700: 0.58203226\n",
            "adversarial loss at step 19700: 4.7187324\n",
            "discriminator loss at step 19800: 0.5356806\n",
            "adversarial loss at step 19800: 1.4155054\n",
            "discriminator loss at step 19900: 0.5712209\n",
            "adversarial loss at step 19900: 0.95041335\n"
          ],
          "name": "stdout"
        }
      ]
    },
    {
      "cell_type": "markdown",
      "metadata": {
        "id": "ILGy6pFFQNaW",
        "colab_type": "text"
      },
      "source": [
        "# 出力結果の確認\n",
        "* 最終的なモデルから出力結果をテストする。\n",
        "* 問題なさそうであればh5ファイルをDLする。\n",
        " * Colab画面の左のフォルダマークからファイルを確認、DL可能"
      ]
    },
    {
      "cell_type": "code",
      "metadata": {
        "id": "JkN4LNT5yabM",
        "colab_type": "code",
        "colab": {
          "base_uri": "https://localhost:8080/",
          "height": 1000
        },
        "outputId": "c949da64-1b77-474c-da3a-284cf29c7dde"
      },
      "source": [
        "import matplotlib.pyplot as plt\n",
        "\n",
        "# Sample random points in the latent space\n",
        "random_latent_vectors = np.random.normal(size=(10, latent_dim))\n",
        "\n",
        "# Decode them to fake images\n",
        "generated_images = generator.predict(random_latent_vectors)\n",
        "\n",
        "for i in range(generated_images.shape[0]):\n",
        "    img = image.array_to_img(generated_images[i] * 255., scale=False)\n",
        "    plt.figure()\n",
        "    plt.imshow(img)\n",
        "    \n",
        "plt.show()"
      ],
      "execution_count": null,
      "outputs": [
        {
          "output_type": "display_data",
          "data": {
            "image/png": "[encoded data removed]",
            "text/plain": [
              "<Figure size 432x288 with 1 Axes>"
            ]
          },
          "metadata": {
            "tags": [],
            "needs_background": "light"
          }
        },
        {
          "output_type": "display_data",
          "data": {
            "image/png": "[encoded data removed]",
            "text/plain": [
              "<Figure size 432x288 with 1 Axes>"
            ]
          },
          "metadata": {
            "tags": [],
            "needs_background": "light"
          }
        },
        {
          "output_type": "display_data",
          "data": {
            "image/png": "[encoded data removed]",
            "text/plain": [
              "<Figure size 432x288 with 1 Axes>"
            ]
          },
          "metadata": {
            "tags": [],
            "needs_background": "light"
          }
        },
        {
          "output_type": "display_data",
          "data": {
            "image/png": "[encoded data removed]",
            "text/plain": [
              "<Figure size 432x288 with 1 Axes>"
            ]
          },
          "metadata": {
            "tags": [],
            "needs_background": "light"
          }
        },
        {
          "output_type": "display_data",
          "data": {
            "image/png": "[encoded data removed]",
            "text/plain": [
              "<Figure size 432x288 with 1 Axes>"
            ]
          },
          "metadata": {
            "tags": [],
            "needs_background": "light"
          }
        },
        {
          "output_type": "display_data",
          "data": {
            "image/png": "[encoded data removed]",
            "text/plain": [
              "<Figure size 432x288 with 1 Axes>"
            ]
          },
          "metadata": {
            "tags": [],
            "needs_background": "light"
          }
        },
        {
          "output_type": "display_data",
          "data": {
            "image/png": "[encoded data removed]",
            "text/plain": [
              "<Figure size 432x288 with 1 Axes>"
            ]
          },
          "metadata": {
            "tags": [],
            "needs_background": "light"
          }
        },
        {
          "output_type": "display_data",
          "data": {
            "image/png": "[encoded data removed]",
            "text/plain": [
              "<Figure size 432x288 with 1 Axes>"
            ]
          },
          "metadata": {
            "tags": [],
            "needs_background": "light"
          }
        },
        {
          "output_type": "display_data",
          "data": {
            "image/png": "[encoded data removed]",
            "text/plain": [
              "<Figure size 432x288 with 1 Axes>"
            ]
          },
          "metadata": {
            "tags": [],
            "needs_background": "light"
          }
        },
        {
          "output_type": "display_data",
          "data": {
            "image/png": "[encoded data removed]",
            "text/plain": [
              "<Figure size 432x288 with 1 Axes>"
            ]
          },
          "metadata": {
            "tags": [],
            "needs_background": "light"
          }
        }
      ]
    }
  ]
}